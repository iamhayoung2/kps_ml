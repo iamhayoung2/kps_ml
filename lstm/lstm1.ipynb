{
 "cells": [
  {
   "cell_type": "code",
   "execution_count": 2,
   "metadata": {},
   "outputs": [],
   "source": [
    "from keras.models import Sequential\n",
    "from keras import optimizers\n",
    "from keras.layers import Dense, LSTM, Dropout\n",
    "import pandas as pd\n",
    "import numpy as np\n",
    "import itertools as it\n",
    "from keras.utils import np_utils\n",
    "from sklearn.utils import shuffle\n",
    "from sklearn.model_selection import train_test_split\n",
    "from sklearn.metrics import mean_squared_error\n",
    "import matplotlib.pyplot as plt\n",
    "%matplotlib inline"
   ]
  },
  {
   "cell_type": "code",
   "execution_count": 3,
   "metadata": {},
   "outputs": [
    {
     "name": "stdout",
     "output_type": "stream",
     "text": [
      "(164009, 11)\n"
     ]
    }
   ],
   "source": [
    "df = pd.read_csv(\"inputdataset_final.csv\")\n",
    "print( df.shape ) # (164009, 11)\n",
    "# df.head()"
   ]
  },
  {
   "cell_type": "code",
   "execution_count": 4,
   "metadata": {
    "collapsed": true
   },
   "outputs": [],
   "source": [
    "df = df[8:] # 짝수로 숫자 맞추기 위해 앞의 8개 빼기"
   ]
  },
  {
   "cell_type": "code",
   "execution_count": 5,
   "metadata": {},
   "outputs": [
    {
     "data": {
      "text/plain": [
       "1"
      ]
     },
     "execution_count": 5,
     "metadata": {},
     "output_type": "execute_result"
    }
   ],
   "source": [
    "df['premium'].isnull().sum() # 1개의 결측치가 있음!"
   ]
  },
  {
   "cell_type": "code",
   "execution_count": 6,
   "metadata": {
    "collapsed": true
   },
   "outputs": [],
   "source": [
    "df = df[pd.notnull(df['premium'])] # 1개의 결측치 삭제"
   ]
  },
  {
   "cell_type": "code",
   "execution_count": 6,
   "metadata": {},
   "outputs": [
    {
     "name": "stdout",
     "output_type": "stream",
     "text": [
      "<class 'list'>\n",
      "164000\n"
     ]
    }
   ],
   "source": [
    "# pandas.core.series.Series > numpy.ndarray > list\n",
    "premium = df['premium'].values.tolist()\n",
    "\n",
    "print(type(premium)) # <class 'list'>\n",
    "print(len(premium)) # 164000"
   ]
  },
  {
   "cell_type": "code",
   "execution_count": 7,
   "metadata": {
    "scrolled": true
   },
   "outputs": [
    {
     "ename": "NameError",
     "evalue": "name 'premium' is not defined",
     "output_type": "error",
     "traceback": [
      "\u001b[1;31m---------------------------------------------------------------------------\u001b[0m",
      "\u001b[1;31mNameError\u001b[0m                                 Traceback (most recent call last)",
      "\u001b[1;32m<ipython-input-7-16ab4335faae>\u001b[0m in \u001b[0;36m<module>\u001b[1;34m()\u001b[0m\n\u001b[0;32m      2\u001b[0m \u001b[0mX\u001b[0m \u001b[1;33m=\u001b[0m \u001b[1;33m[\u001b[0m\u001b[1;33m]\u001b[0m\u001b[1;33m\u001b[0m\u001b[0m\n\u001b[0;32m      3\u001b[0m \u001b[0mY\u001b[0m \u001b[1;33m=\u001b[0m \u001b[1;33m[\u001b[0m\u001b[1;33m]\u001b[0m\u001b[1;33m\u001b[0m\u001b[0m\n\u001b[1;32m----> 4\u001b[1;33m \u001b[0mprint\u001b[0m\u001b[1;33m(\u001b[0m\u001b[1;34m'len(premium) - window_size='\u001b[0m\u001b[1;33m,\u001b[0m  \u001b[0mlen\u001b[0m\u001b[1;33m(\u001b[0m\u001b[0mpremium\u001b[0m\u001b[1;33m)\u001b[0m \u001b[1;33m-\u001b[0m \u001b[0mwindow_size\u001b[0m \u001b[1;33m)\u001b[0m \u001b[1;31m# len(premium) - window_size= 163995\u001b[0m\u001b[1;33m\u001b[0m\u001b[0m\n\u001b[0m\u001b[0;32m      5\u001b[0m \u001b[1;32mfor\u001b[0m \u001b[0mi\u001b[0m \u001b[1;32min\u001b[0m \u001b[0mrange\u001b[0m\u001b[1;33m(\u001b[0m\u001b[0mlen\u001b[0m\u001b[1;33m(\u001b[0m\u001b[0mpremium\u001b[0m\u001b[1;33m)\u001b[0m \u001b[1;33m-\u001b[0m \u001b[0mwindow_size\u001b[0m\u001b[1;33m)\u001b[0m\u001b[1;33m:\u001b[0m\u001b[1;33m\u001b[0m\u001b[0m\n\u001b[0;32m      6\u001b[0m     \u001b[1;31m# i = 0\u001b[0m\u001b[1;33m\u001b[0m\u001b[1;33m\u001b[0m\u001b[0m\n",
      "\u001b[1;31mNameError\u001b[0m: name 'premium' is not defined"
     ]
    }
   ],
   "source": [
    "window_size = 500\n",
    "X = []\n",
    "Y = []\n",
    "print('len(premium) - window_size=',  len(premium) - window_size ) # len(premium) - window_size= 163995\n",
    "for i in range(len(premium) - window_size):\n",
    "    # i = 0\n",
    "    # j = 0, 1, 2, 3, 4\n",
    "    X.append([premium[i+j] for j in range(window_size)])\n",
    "    Y.append(premium[window_size+i])"
   ]
  },
  {
   "cell_type": "code",
   "execution_count": 8,
   "metadata": {},
   "outputs": [
    {
     "name": "stdout",
     "output_type": "stream",
     "text": [
      "(163995, 5)\n",
      "(163995,)\n",
      "[[-2.13839937 -3.16269097 -2.6888462  -2.79617532 -2.20012508]\n",
      " [-3.16269097 -2.6888462  -2.79617532 -2.20012508 -4.20481956]\n",
      " [-2.6888462  -2.79617532 -2.20012508 -4.20481956 -2.21160953]\n",
      " ..., \n",
      " [ 4.22055872  3.74092331  3.79483348  4.1785208   4.32652833]\n",
      " [ 3.74092331  3.79483348  4.1785208   4.32652833  4.13582023]\n",
      " [ 3.79483348  4.1785208   4.32652833  4.13582023  4.09228536]]\n",
      "[-4.20481956 -2.21160953  0.50605839 ...,  4.13582023  4.09228536\n",
      "  4.07444284]\n"
     ]
    }
   ],
   "source": [
    "X = np.array(X)\n",
    "Y = np.array(Y)\n",
    "\n",
    "print( X.shape ) # (163995, 5)\n",
    "print( Y.shape ) # (163995,)\n",
    "\n",
    "print( X )\n",
    "print( Y )"
   ]
  },
  {
   "cell_type": "code",
   "execution_count": 9,
   "metadata": {},
   "outputs": [
    {
     "name": "stdout",
     "output_type": "stream",
     "text": [
      "X_train.shape= (160000, 5)\n",
      "X_test.shape= (3995, 5)\n",
      "Y_train.shape= (160000,)\n",
      "Y_test.shape= (3995,)\n",
      "[-2.13839937 -3.16269097 -2.6888462  -2.79617532 -2.20012508]\n",
      "[ 4.10178427  4.19536531  4.4616269   4.58808303  4.20337184]\n",
      "-4.204819561\n",
      "4.275252204\n"
     ]
    }
   ],
   "source": [
    "train_test_split = 160000\n",
    "\n",
    "X_train = X[:train_test_split,:]\n",
    "Y_train = Y[:train_test_split]\n",
    "\n",
    "X_test = X[train_test_split:,:]\n",
    "Y_test = Y[train_test_split:]\n",
    "\n",
    "print( \"X_train.shape=\", X_train.shape ) # X_train.shape= (160000, 5)\n",
    "print( \"X_test.shape=\", X_test.shape )   # X_test.shape= (3995, 5)\n",
    "print( \"Y_train.shape=\", Y_train.shape ) # Y_train.shape= (160000,)\n",
    "print( \"Y_test.shape=\", Y_test.shape )   # Y_test.shape= (3995,)\n",
    "\n",
    "print( X_train[0] )\n",
    "print( X_test[0] )\n",
    "print( Y_train[0] )\n",
    "print( Y_test[0] )"
   ]
  },
  {
   "cell_type": "code",
   "execution_count": 10,
   "metadata": {},
   "outputs": [
    {
     "name": "stdout",
     "output_type": "stream",
     "text": [
      "X_train.shape= (160000, 5, 1)\n",
      "X_test.shape= (3995, 5, 1)\n",
      "Y_train.shape= (160000,)\n",
      "Y_test.shape= (3995,)\n",
      "[[-2.13839937]\n",
      " [-3.16269097]\n",
      " [-2.6888462 ]\n",
      " [-2.79617532]\n",
      " [-2.20012508]]\n",
      "[[ 4.10178427]\n",
      " [ 4.19536531]\n",
      " [ 4.4616269 ]\n",
      " [ 4.58808303]\n",
      " [ 4.20337184]]\n"
     ]
    }
   ],
   "source": [
    "X_train = np.reshape(X_train, (X_train.shape[0], window_size, 1))\n",
    "X_test  = np.reshape(X_test, (X_test.shape[0], window_size, 1))\n",
    "\n",
    "print( \"X_train.shape=\", X_train.shape ) # X_train.shape= (160000, 5, 1)\n",
    "print( \"X_test.shape=\", X_test.shape )   # X_test.shape= (3995, 5, 1)\n",
    "print( \"Y_train.shape=\", Y_train.shape ) # Y_train.shape= (160000,)\n",
    "print( \"Y_test.shape=\", Y_test.shape )   # Y_test.shape= (3995,)\n",
    "print( X_train[0] )\n",
    "print( X_test[0] )"
   ]
  },
  {
   "cell_type": "code",
   "execution_count": 11,
   "metadata": {},
   "outputs": [
    {
     "name": "stdout",
     "output_type": "stream",
     "text": [
      "_________________________________________________________________\n",
      "Layer (type)                 Output Shape              Param #   \n",
      "=================================================================\n",
      "lstm_1 (LSTM)                (None, 128)               66560     \n",
      "_________________________________________________________________\n",
      "dropout_1 (Dropout)          (None, 128)               0         \n",
      "_________________________________________________________________\n",
      "dense_1 (Dense)              (None, 1)                 129       \n",
      "=================================================================\n",
      "Total params: 66,689\n",
      "Trainable params: 66,689\n",
      "Non-trainable params: 0\n",
      "_________________________________________________________________\n"
     ]
    }
   ],
   "source": [
    "model = Sequential()\n",
    "model.add(LSTM(128, input_shape=(5,1,)))\n",
    "model.add(Dropout(0.2))\n",
    "model.add(Dense(1, activation='linear'))\n",
    "model.compile(loss='mse', optimizer='adam')\n",
    "model.summary()"
   ]
  },
  {
   "cell_type": "code",
   "execution_count": 12,
   "metadata": {},
   "outputs": [
    {
     "name": "stdout",
     "output_type": "stream",
     "text": [
      "Train on 144000 samples, validate on 16000 samples\n",
      "Epoch 1/1\n",
      "144000/144000 [==============================] - 19s 132us/step - loss: 1.3295 - val_loss: 0.2338\n",
      "{'val_loss': [0.23379203138500451], 'loss': [1.3295029574889277]}\n",
      "0:00:19\n"
     ]
    }
   ],
   "source": [
    "import time\n",
    "start_time = time.time() \n",
    "\n",
    "hist = model.fit(X_train, Y_train, epochs=1, validation_split=0.1)\n",
    "# hist = model.fit(X_train, Y_train, epochs=10, validation_split=0.1)\n",
    "# hist = model.fit(X_train, Y_train, epochs=6, batch_size=1, validation_split=0.1)\n",
    "print(hist.history)\n",
    "\n",
    "lap = (time.time() - start_time)\n",
    "m, s = divmod(lap, 60)\n",
    "h, m = divmod(m, 60)\n",
    "print( \"%d:%02d:%02d\" % (h, m, s) )  # 예) 1번=0:00:59, 10번=0:09:38"
   ]
  },
  {
   "cell_type": "code",
   "execution_count": null,
   "metadata": {
    "collapsed": true
   },
   "outputs": [],
   "source": []
  },
  {
   "cell_type": "code",
   "execution_count": 13,
   "metadata": {},
   "outputs": [
    {
     "name": "stdout",
     "output_type": "stream",
     "text": [
      "160000/160000 [==============================] - 5s 31us/step\n"
     ]
    },
    {
     "data": {
      "text/plain": [
       "0.27134545916886998"
      ]
     },
     "execution_count": 13,
     "metadata": {},
     "output_type": "execute_result"
    }
   ],
   "source": [
    "score = model.evaluate(X_train, Y_train)\n",
    "score"
   ]
  },
  {
   "cell_type": "code",
   "execution_count": 14,
   "metadata": {},
   "outputs": [
    {
     "name": "stdout",
     "output_type": "stream",
     "text": [
      "3995/3995 [==============================] - 0s 43us/step\n"
     ]
    },
    {
     "data": {
      "text/plain": [
       "0.054209656114497677"
      ]
     },
     "execution_count": 14,
     "metadata": {},
     "output_type": "execute_result"
    }
   ],
   "source": [
    "score2 = model.evaluate(X_test, Y_test)\n",
    "score2"
   ]
  },
  {
   "cell_type": "code",
   "execution_count": 22,
   "metadata": {
    "collapsed": true
   },
   "outputs": [],
   "source": [
    "train_predict = model.predict(X_train)"
   ]
  },
  {
   "cell_type": "code",
   "execution_count": 15,
   "metadata": {
    "collapsed": true
   },
   "outputs": [],
   "source": [
    "y_pred = model.predict(X_test)"
   ]
  },
  {
   "cell_type": "code",
   "execution_count": 16,
   "metadata": {},
   "outputs": [
    {
     "name": "stdout",
     "output_type": "stream",
     "text": [
      "(3995, 5, 1)\n",
      "(3995,)\n",
      "4.275252204\n",
      "[ 4.03264141]\n"
     ]
    }
   ],
   "source": [
    "print(X_test.shape) # (3995, 5, 1)\n",
    "print(Y_test.shape) # (3995,)\n",
    "print(Y_test[0]) # 4.2752522040000001\n",
    "print(y_pred[0]) # array([ 4.23595238], dtype=float32)"
   ]
  },
  {
   "cell_type": "code",
   "execution_count": 17,
   "metadata": {},
   "outputs": [
    {
     "data": {
      "text/plain": [
       "0.054209657580034619"
      ]
     },
     "execution_count": 17,
     "metadata": {},
     "output_type": "execute_result"
    }
   ],
   "source": [
    "mean_squared_error(Y_test, y_pred)"
   ]
  },
  {
   "cell_type": "code",
   "execution_count": 18,
   "metadata": {},
   "outputs": [
    {
     "data": {
      "text/plain": [
       "array([ 4.2752522 ,  4.36852771,  4.49955848, ...,  4.13582023,\n",
       "        4.09228536,  4.07444284])"
      ]
     },
     "execution_count": 18,
     "metadata": {},
     "output_type": "execute_result"
    }
   ],
   "source": [
    "Y_test"
   ]
  },
  {
   "cell_type": "code",
   "execution_count": 19,
   "metadata": {},
   "outputs": [
    {
     "data": {
      "text/plain": [
       "array([[ 4.03264141],\n",
       "       [ 4.09383345],\n",
       "       [ 4.20239735],\n",
       "       ..., \n",
       "       [ 4.15193748],\n",
       "       [ 3.95727634],\n",
       "       [ 3.91632962]], dtype=float32)"
      ]
     },
     "execution_count": 19,
     "metadata": {},
     "output_type": "execute_result"
    }
   ],
   "source": [
    "y_pred"
   ]
  },
  {
   "cell_type": "code",
   "execution_count": 23,
   "metadata": {},
   "outputs": [
    {
     "data": {
      "text/plain": [
       "[<matplotlib.lines.Line2D at 0x153887b8>]"
      ]
     },
     "execution_count": 23,
     "metadata": {},
     "output_type": "execute_result"
    },
    {
     "name": "stderr",
     "output_type": "stream",
     "text": [
      "C:\\Anaconda3\\lib\\site-packages\\matplotlib\\font_manager.py:1316: UserWarning: findfont: Font family ['NanumBarunGothicOTF'] not found. Falling back to DejaVu Sans\n",
      "  (prop.get_family(), self.defaultFamily[fontext]))\n"
     ]
    },
    {
     "data": {
      "image/png": "[encoded data removed]",
      "text/plain": [
       "<matplotlib.figure.Figure at 0x1537ba90>"
      ]
     },
     "metadata": {},
     "output_type": "display_data"
    }
   ],
   "source": [
    "plt.figure(figsize=(15,10))\n",
    "plt.plot(premium)\n",
    "\n",
    "split_pt = train_test_split+window_size\n",
    "plt.plot(np.arange(window_size, split_pt, 1), train_predict, color='g')\n",
    "\n",
    "plt.plot(np.arange(split_pt, split_pt+len(y_pred), 1), y_pred, color='r')"
   ]
  },
  {
   "cell_type": "code",
   "execution_count": 19,
   "metadata": {
    "collapsed": true
   },
   "outputs": [],
   "source": [
    "# end"
   ]
  },
  {
   "cell_type": "code",
   "execution_count": null,
   "metadata": {
    "collapsed": true
   },
   "outputs": [],
   "source": []
  }
 ],
 "metadata": {
  "kernelspec": {
   "display_name": "Python 3",
   "language": "python",
   "name": "python3"
  },
  "language_info": {
   "codemirror_mode": {
    "name": "ipython",
    "version": 3
   },
   "file_extension": ".py",
   "mimetype": "text/x-python",
   "name": "python",
   "nbconvert_exporter": "python",
   "pygments_lexer": "ipython3",
   "version": "3.6.3"
  }
 },
 "nbformat": 4,
 "nbformat_minor": 2
}
